{
 "cells": [
  {
   "cell_type": "code",
   "execution_count": 71,
   "metadata": {},
   "outputs": [],
   "source": [
    "# code to gather conference standings for nba teams \n",
    "# code is pulling stats from basketball-reference.com\n",
    "# code will output data in a csv file\n",
    "\n",
    "import  requests\n",
    "from bs4 import BeautifulSoup"
   ]
  },
  {
   "cell_type": "code",
   "execution_count": 72,
   "metadata": {},
   "outputs": [],
   "source": [
    "url = 'https://www.basketball-reference.com/leagues/NBA_2020_standings.html'\n",
    "r = requests.get(url)\n",
    "soup = BeautifulSoup(r.text,'html.parser')"
   ]
  },
  {
   "cell_type": "code",
   "execution_count": 73,
   "metadata": {},
   "outputs": [],
   "source": [
    "results = soup.find(id = 'div_confs_standings_E')"
   ]
  },
  {
   "cell_type": "code",
   "execution_count": 74,
   "metadata": {},
   "outputs": [],
   "source": [
    "table = results.find_all('tr',attrs = {'class':'full_table'})"
   ]
  },
  {
   "cell_type": "code",
   "execution_count": 75,
   "metadata": {},
   "outputs": [],
   "source": [
    "stats = []\n",
    "for i in range(len(table)):\n",
    "    s = table[i].find_all('td')\n",
    "    stats.append(table[i].a.text)\n",
    "    for j in s:\n",
    "        stats.append(j.text)"
   ]
  },
  {
   "cell_type": "code",
   "execution_count": 76,
   "metadata": {},
   "outputs": [],
   "source": [
    "# repeat steps above but for the nba west standings\n",
    "# will combine stats from west with east to form list \n",
    "# that includes all teams in nba\n",
    "\n",
    "results = soup.find(id = 'div_confs_standings_W')\n",
    "table = results.find_all('tr',attrs = {'class':'full_table'})\n",
    "\n",
    "\n",
    "for i in range(len(table)):\n",
    "    s = table[i].find_all('td')\n",
    "    stats.append(table[i].a.text)\n",
    "    for j in s:\n",
    "        stats.append(j.text)\n"
   ]
  },
  {
   "cell_type": "code",
   "execution_count": 77,
   "metadata": {},
   "outputs": [],
   "source": [
    "# group the teams\n",
    "\n",
    "N = 8 \n",
    "nba_team_standings = [stats[n:n+N] for n in range(0, len(stats), N)]"
   ]
  },
  {
   "cell_type": "code",
   "execution_count": 78,
   "metadata": {},
   "outputs": [],
   "source": [
    "import csv"
   ]
  },
  {
   "cell_type": "code",
   "execution_count": 79,
   "metadata": {},
   "outputs": [],
   "source": [
    "with open('teamstandings.csv','w') as f:\n",
    "    writer = csv.writer(f)\n",
    "    writer.writerow(['Team','W','L','W/L%','GB','PS/G','PA/G','SRS'])\n",
    "    writer.writerows(nba_team_standings)"
   ]
  }
 ],
 "metadata": {
  "kernelspec": {
   "display_name": "Python 3",
   "language": "python",
   "name": "python3"
  },
  "language_info": {
   "codemirror_mode": {
    "name": "ipython",
    "version": 3
   },
   "file_extension": ".py",
   "mimetype": "text/x-python",
   "name": "python",
   "nbconvert_exporter": "python",
   "pygments_lexer": "ipython3",
   "version": "3.7.4"
  }
 },
 "nbformat": 4,
 "nbformat_minor": 2
}
