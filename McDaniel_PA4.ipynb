{
 "cells": [
  {
   "cell_type": "markdown",
   "metadata": {},
   "source": [
    "<h2>PA4 - 40 pts</h2>\n",
    "<h3>Change this filename to \"YourLastName_PA4\"</h3>\n",
    "<p>In this programming assignment, we will be practicing using BeautifulSoup to scrape data from the website <a href=\"http://quotes.toscrape.com\">quotes.toscrape.com</a></p>\n",
    "<p><b>Questions 1 through 4</b> will involve scraping the front page of this website. <br/><b>Questions 5 through 7</b> will involve making a request to a page within the site and scraping values from that page.<br/><b>Questions 8 through 10</b> will involve building a web crawler to navigate through a set of pages</p>\n"
   ]
  },
  {
   "cell_type": "code",
   "execution_count": 425,
   "metadata": {},
   "outputs": [],
   "source": [
    "# (1) import the requests module and BeautifulSoup from the bs4 module.\n",
    "# Make a soup object from the \"quotes.toscrape.com\" request content.\n",
    "# Add additional Jupyter Notebook cells as needed.\n",
    "import requests\n",
    "from bs4 import BeautifulSoup\n",
    "\n",
    "r = requests.get('http://quotes.toscrape.com?')\n",
    "soup = BeautifulSoup(r.text,'html.parser')\n",
    "\n",
    "\n",
    "\n"
   ]
  },
  {
   "cell_type": "code",
   "execution_count": 426,
   "metadata": {},
   "outputs": [
    {
     "name": "stdout",
     "output_type": "stream",
     "text": [
      "/\n",
      "/login\n",
      "/author/Albert-Einstein\n",
      "/tag/change/page/1/\n",
      "/tag/deep-thoughts/page/1/\n",
      "/tag/thinking/page/1/\n",
      "/tag/world/page/1/\n",
      "/author/J-K-Rowling\n",
      "/tag/abilities/page/1/\n",
      "/tag/choices/page/1/\n",
      "/author/Albert-Einstein\n",
      "/tag/inspirational/page/1/\n",
      "/tag/life/page/1/\n",
      "/tag/live/page/1/\n",
      "/tag/miracle/page/1/\n",
      "/tag/miracles/page/1/\n",
      "/author/Jane-Austen\n",
      "/tag/aliteracy/page/1/\n",
      "/tag/books/page/1/\n",
      "/tag/classic/page/1/\n",
      "/tag/humor/page/1/\n",
      "/author/Marilyn-Monroe\n",
      "/tag/be-yourself/page/1/\n",
      "/tag/inspirational/page/1/\n",
      "/author/Albert-Einstein\n",
      "/tag/adulthood/page/1/\n",
      "/tag/success/page/1/\n",
      "/tag/value/page/1/\n",
      "/author/Andre-Gide\n",
      "/tag/life/page/1/\n",
      "/tag/love/page/1/\n",
      "/author/Thomas-A-Edison\n",
      "/tag/edison/page/1/\n",
      "/tag/failure/page/1/\n",
      "/tag/inspirational/page/1/\n",
      "/tag/paraphrased/page/1/\n",
      "/author/Eleanor-Roosevelt\n",
      "/tag/misattributed-eleanor-roosevelt/page/1/\n",
      "/author/Steve-Martin\n",
      "/tag/humor/page/1/\n",
      "/tag/obvious/page/1/\n",
      "/tag/simile/page/1/\n",
      "/page/2/\n",
      "/tag/love/\n",
      "/tag/inspirational/\n",
      "/tag/life/\n",
      "/tag/humor/\n",
      "/tag/books/\n",
      "/tag/reading/\n",
      "/tag/friendship/\n",
      "/tag/friends/\n",
      "/tag/truth/\n",
      "/tag/simile/\n",
      "https://www.goodreads.com/quotes\n",
      "https://scrapinghub.com\n"
     ]
    }
   ],
   "source": [
    "# (2a) From the soup object, print the 'url' of all links in the page.\n",
    "# hint: print the 'href' content in all 'a' tags\n",
    "\n",
    "results = soup.find_all('a')\n",
    "links = []\n",
    "for child in results:\n",
    "    if child.name == 'a':\n",
    "        print(child['href'])\n",
    "\n",
    "\n"
   ]
  },
  {
   "cell_type": "code",
   "execution_count": 427,
   "metadata": {},
   "outputs": [
    {
     "name": "stdout",
     "output_type": "stream",
     "text": [
      "10\n"
     ]
    }
   ],
   "source": [
    "# (2b) Print the total number of links to an author page from this page.\n",
    "# i.e. how many of the links above are to an authors profile page\n",
    "\n",
    "\n",
    "results = soup.find_all('div',attrs = {'class':'col-md-8'})\n",
    "col = results[1]\n",
    "authors = col.find_all('small',attrs = {'class':'author'})\n",
    "authors\n",
    "count = 0\n",
    "for child in authors:\n",
    "    count+=1\n",
    "   \n",
    "print(count)\n",
    "    \n",
    "\n",
    "     \n"
   ]
  },
  {
   "cell_type": "code",
   "execution_count": 428,
   "metadata": {},
   "outputs": [
    {
     "name": "stdout",
     "output_type": "stream",
     "text": [
      "“A day without sunshine is like, you know, night.”\n"
     ]
    }
   ],
   "source": [
    "# (3) From the soup object, print the quote from Steve Martin\n",
    "results = soup.find_all('span',attrs = {'class':'text'})\n",
    "print(results[-1].text)"
   ]
  },
  {
   "cell_type": "code",
   "execution_count": 430,
   "metadata": {},
   "outputs": [
    {
     "name": "stdout",
     "output_type": "stream",
     "text": [
      "['edison', 'failure', 'inspirational', 'paraphrased']\n"
     ]
    }
   ],
   "source": [
    "# (4) From the soup object, print all Subject Tags associated with \n",
    "#     Thomas A. Edison's quote\n",
    "#results[7]\n",
    "results = soup.find_all('div',attrs = {'class':'quote'})\n",
    "tags = results[7].find_all('a')\n",
    "\n",
    "links = []\n",
    "for child in tags:\n",
    "    if child.name == 'a':\n",
    "        links.append(child.text)\n",
    "        \n",
    "\n",
    "del links[0]\n",
    "print(links)"
   ]
  },
  {
   "cell_type": "markdown",
   "metadata": {},
   "source": [
    "<h3>Navigating to other pages within the site</h3>\n",
    "<p>Questions 5 through 7 will require pulling page content from other pages within the quotes.toscrape.com site</p>"
   ]
  },
  {
   "cell_type": "code",
   "execution_count": 384,
   "metadata": {},
   "outputs": [
    {
     "data": {
      "text/plain": [
       "'March 14, 1879'"
      ]
     },
     "execution_count": 384,
     "metadata": {},
     "output_type": "execute_result"
    }
   ],
   "source": [
    "# (5) Scrape and print Albert Einstein's birthdate\n",
    "\n",
    "\n",
    "url = 'http://quotes.toscrape.com/author/Albert-Einstein'\n",
    "\n",
    "r = requests.get(url)\n",
    "soup = BeautifulSoup(r.text,'html.parser')\n",
    "\n",
    "bday = soup.find('span', attrs = {'class':'author-born-date'})\n",
    "\n",
    "bday.text\n",
    "\n"
   ]
  },
  {
   "cell_type": "code",
   "execution_count": 385,
   "metadata": {},
   "outputs": [
    {
     "data": {
      "text/plain": [
       "'Steventon Rectory, Hampshire, The United Kingdom'"
      ]
     },
     "execution_count": 385,
     "metadata": {},
     "output_type": "execute_result"
    }
   ],
   "source": [
    "# (6) Scrape and print Jane Austen's place of birth\n",
    "\n",
    "url = 'http://quotes.toscrape.com/author/Jane-Austen/'\n",
    "\n",
    "r = requests.get(url)\n",
    "soup = BeautifulSoup(r.text,'html.parser')\n",
    "\n",
    "birthplace = soup.find('span', attrs = {'class':'author-born-location'})\n",
    "\n",
    "birthplace.text[3::]\n",
    "\n",
    "\n"
   ]
  },
  {
   "cell_type": "code",
   "execution_count": 386,
   "metadata": {},
   "outputs": [
    {
     "name": "stdout",
     "output_type": "stream",
     "text": [
      "“The reason I talk to myself is because I’m the only one whose answers I accept.”\n",
      "\n",
      "“A lie can travel half way around the world while the truth is putting on its shoes.”\n",
      "\n",
      "“The truth.\" Dumbledore sighed. \"It is a beautiful and terrible thing, and should therefore be treated with great caution.”\n",
      "\n",
      "“Never tell the truth to people who are not worthy of it.”\n",
      "\n"
     ]
    }
   ],
   "source": [
    "# (7) Print all quotes with the Subject Tag: 'truth'\n",
    "\n",
    "url = 'http://quotes.toscrape.com/tag/truth/'\n",
    "\n",
    "r = requests.get(url)\n",
    "soup = BeautifulSoup(r.text,'html.parser')\n",
    "\n",
    "results = soup.find_all('div',attrs = {'class':'col-md-8'})\n",
    "col = results[1]\n",
    "\n",
    "z = col.find_all('span',attrs = {'class':'text'})\n",
    "for i in z:\n",
    "    print(i.text)\n",
    "    print(\"\")\n",
    "\n",
    "    \n",
    "\n"
   ]
  },
  {
   "cell_type": "markdown",
   "metadata": {},
   "source": [
    "<h3>Web crawling to extract larger data sets</h3>\n",
    "<p>Questions 8 through 10 will require building a web crawling algorithm to traverse the website to extract data</p>"
   ]
  },
  {
   "cell_type": "code",
   "execution_count": 387,
   "metadata": {},
   "outputs": [
    {
     "name": "stdout",
     "output_type": "stream",
     "text": [
      "['André Gide', 'Marilyn Monroe', 'Bob Marley', 'Elie Wiesel', 'Friedrich Nietzsche', 'Pablo Neruda', 'James Baldwin', 'Jane Austen', 'C.S. Lewis', 'Alfred Tennyson', 'J.M. Barrie']\n"
     ]
    }
   ],
   "source": [
    "# (8) Print a list of all author's names who have a quote with\n",
    "#     the Subject Tag \"love\"\n",
    "#     Note: each author's name should only print once.\n",
    "\n",
    "baseurl = 'http://quotes.toscrape.com'\n",
    "\n",
    "url = 'http://quotes.toscrape.com/tag/love/page/1/'\n",
    "\n",
    "r = requests.get(url)\n",
    "soup = BeautifulSoup(r.text,'html.parser')\n",
    "\n",
    "\n",
    "\n",
    "link = soup.find('li',attrs = {'class':'next'})\n",
    "nextpge_link = link.a['href']\n",
    "check = soup.find('ul')\n",
    "crawl = True\n",
    "\n",
    "a = []\n",
    "\n",
    "while crawl == True:\n",
    "   \n",
    "    page = requests.get(url)\n",
    "    soup = BeautifulSoup(page.content,'html.parser')\n",
    "    \n",
    "    \n",
    "    \n",
    "    authors = soup.find_all('small',attrs = {'class':'author'})\n",
    "    \n",
    "    \n",
    "    for e in authors:\n",
    "        a.append(e.text)\n",
    "    \n",
    "    \n",
    "     # check for 'Next' button\n",
    "    nextTag = soup.find('li', {'class':'next'})\n",
    "    \n",
    "    # if 'Next' button exists, update url\n",
    "    if nextTag:\n",
    "        # Note: starting on page 2, the href format changed, so we\n",
    "        # need to modify our base url to reflect this change...\n",
    "        \n",
    "        \n",
    "        url = baseurl + nextTag.a['href']\n",
    "    # else: crawl = False\n",
    "    else:\n",
    "        crawl = False\n",
    "    \n",
    "    \n",
    "   \n",
    "a = list(dict.fromkeys(a)) # removes duplicates \n",
    "print(a)\n"
   ]
  },
  {
   "cell_type": "code",
   "execution_count": 420,
   "metadata": {},
   "outputs": [
    {
     "name": "stdout",
     "output_type": "stream",
     "text": [
      "“Good friends, good books, and a sleepy conscience: this is the ideal life.”\n",
      "“I have never let my schooling interfere with my education.”\n",
      "“′Classic′ - a book which people praise and don't read.”\n",
      "“The fear of death follows from the fear of life. A man who lives fully is prepared to die at any time.”\n",
      "“A lie can travel half way around the world while the truth is putting on its shoes.”\n",
      "“Never tell the truth to people who are not worthy of it.”\n"
     ]
    }
   ],
   "source": [
    "\n",
    "# (9) Print all quotes by Mark Twain found on this site. \n",
    "#     (not just the front page)\n",
    "\n",
    "url = 'http://quotes.toscrape.com/page/1/'\n",
    "r = requests.get('http://quotes.toscrape.com/page/1/')\n",
    "soup = BeautifulSoup(r.text,'html.parser')\n",
    "  \n",
    "\n",
    "crawl = True\n",
    "\n",
    "while crawl == True:\n",
    "   \n",
    "    page = requests.get(url)\n",
    "    soup = BeautifulSoup(page.content,'html.parser')\n",
    "    \n",
    "    \n",
    "    \n",
    "    \n",
    "    results = soup.find_all('small',attrs = {'class':'author'})  # filter with this \n",
    "\n",
    "    quote = soup.find_all('div',attrs = {'class':'quote'}) ## loop over this \n",
    "\n",
    "\n",
    "    count = 0\n",
    "    for i in quote:\n",
    "    \n",
    "        if i.small.text == 'Mark Twain':\n",
    "            index = count\n",
    "            \n",
    "            print(quote[index]('span')[0].text)\n",
    "            \n",
    "        count+=1\n",
    "\n",
    "  \n",
    "    # check for 'Next' button\n",
    "    nextTag = soup.find('li', {'class':'next'})\n",
    "    \n",
    "    # if 'Next' button exists, update url\n",
    "    if nextTag:\n",
    "        # Note: starting on page 2, the href format changed, so we\n",
    "        # need to modify our base url to reflect this change...\n",
    "        \n",
    "        \n",
    "        url = baseurl + nextTag.a['href']\n",
    "    #else: crawl = False\n",
    "    \n",
    "    \n",
    "    else:\n",
    "        crawl = False\n",
    "\n",
    "\n",
    "\n",
    "\n",
    "\n"
   ]
  },
  {
   "cell_type": "code",
   "execution_count": 431,
   "metadata": {},
   "outputs": [
    {
     "name": "stdout",
     "output_type": "stream",
     "text": [
      "Enter in a search term: but\n",
      "*************************************************\n",
      "Author: Marilyn Monroe\n",
      "Quote: “This life is what you make it. No matter what, you're going to mess up sometimes, it's a universal truth. But the good part is you get to decide how you're going to mess it up. Girls will be your friends - they'll act like it anyway. But just remember, some come, some go. The ones that stay with you through everything - they're your true best friends. Don't let go of them. Also remember, sisters make the best friends in the world. As for lovers, well, they'll come and go too. And baby, I hate to say it, most of them - actually pretty much all of them are going to break your heart, but you can't give up because if you give up, you'll never find your soulmate. You'll never find that half who makes you whole and that goes for everything. Just because you fail once, doesn't mean you're gonna fail at everything. Keep trying, hold on, and always, always, always believe in yourself, because if you don't, then who will, sweetie? So keep your head high, keep your chin up, and most importantly, keep smiling, because life's a beautiful thing and there's so much to smile about.”\n",
      "*************************************************\n",
      "*************************************************\n",
      "Author: J.K. Rowling\n",
      "Quote: “It takes a great deal of bravery to stand up to our enemies, but just as much to stand up to our friends.”\n",
      "*************************************************\n",
      "*************************************************\n",
      "Author: Bob Marley\n",
      "Quote: “You may not be her first, her last, or her only. She loved before she may love again. But if she loves you now, what else matters? She's not perfect—you aren't either, and the two of you may never be perfect together but if she can make you laugh, cause you to think twice, and admit to being human and making mistakes, hold onto her and give her the most you can. She may not be thinking about you every second of the day, but she will give you a part of her that she knows you can break—her heart. So don't hurt her, don't change her, don't analyze and don't expect more than she can give. Smile when she makes you happy, let her know when she makes you mad, and miss her when she's not there.”\n",
      "*************************************************\n",
      "*************************************************\n",
      "Author: Douglas Adams\n",
      "Quote: “I may not have gone where I intended to go, but I think I have ended up where I needed to be.”\n",
      "*************************************************\n",
      "*************************************************\n",
      "Author: Friedrich Nietzsche\n",
      "Quote: “It is not a lack of love, but a lack of friendship that makes unhappy marriages.”\n",
      "*************************************************\n",
      "*************************************************\n",
      "Author: Pablo Neruda\n",
      "Quote: “I love you without knowing how, or when, or from where. I love you simply, without problems or pride: I love you in this way because I do not know any other way of loving but this, in which there is no I or you, so intimate that your hand upon my chest is my hand, so intimate that when I fall asleep your eyes close.”\n",
      "*************************************************\n",
      "*************************************************\n",
      "Author: J.K. Rowling\n",
      "Quote: “Of course it is happening inside your head, Harry, but why on earth should that mean that it is not real?”\n",
      "*************************************************\n",
      "*************************************************\n",
      "Author: J.K. Rowling\n",
      "Quote: “To the well-organized mind, death is but the next great adventure.”\n",
      "*************************************************\n",
      "*************************************************\n",
      "Author: Marilyn Monroe\n",
      "Quote: “You believe lies so you eventually learn to trust no one but yourself.”\n",
      "*************************************************\n",
      "*************************************************\n",
      "Author: Marilyn Monroe\n",
      "Quote: “A wise girl kisses but doesn't love, listens but doesn't believe, and leaves before she is left.”\n",
      "*************************************************\n",
      "*************************************************\n",
      "Author: J.K. Rowling\n",
      "Quote: “It matters not what someone is born, but what they grow to be.”\n",
      "*************************************************\n",
      "*************************************************\n",
      "Author: Marilyn Monroe\n",
      "Quote: “I am good, but not an angel. I do sin, but I am not the devil. I am just a small girl in a big world trying to find someone to love.”\n",
      "*************************************************\n",
      "*************************************************\n",
      "Author: Helen Keller\n",
      "Quote: “When one door of happiness closes, another opens; but often we look so long at the closed door that we do not see the one which has been opened for us.”\n",
      "*************************************************\n",
      "*************************************************\n",
      "Author: John Lennon\n",
      "Quote: “You may say I'm a dreamer, but I'm not the only one. I hope someday you'll join us. And the world will live as one.”\n",
      "*************************************************\n",
      "*************************************************\n",
      "Author: C.S. Lewis\n",
      "Quote: “I believe in Christianity as I believe that the sun has risen: not only because I see it, but because by it I see everything else.”\n",
      "*************************************************\n"
     ]
    }
   ],
   "source": [
    "# (10) Prompt the user to enter in a search term.  Then print each\n",
    "#      author and quote for any quotes that contain this search term.\n",
    "#      If no quotes are found that contain the search term, \n",
    "#      print \"No matches found\".\n",
    "#      Test results: There are 9 quotes containing 'book'\n",
    "#                    There are 0 quotes containing 'future'\n",
    "\n",
    "\n",
    "url = 'http://quotes.toscrape.com/page/1/'\n",
    "r = requests.get('http://quotes.toscrape.com/page/1/')\n",
    "soup = BeautifulSoup(r.text,'html.parser')\n",
    "  \n",
    "bbreak = False\n",
    "match = False\n",
    "\n",
    "search = input(\"Enter in a search term: \")\n",
    "\n",
    "crawl = True\n",
    "\n",
    "while crawl == True:\n",
    "   \n",
    "    page = requests.get(url)\n",
    "    soup = BeautifulSoup(page.content,'html.parser')\n",
    "    \n",
    " \n",
    "\n",
    "    results = soup.find_all('small',attrs = {'class':'author'})  # filter with this \n",
    "\n",
    "    #quote = soup.find_all('span',attrs = {'class':'text'}) ## loop over this \n",
    "    quote = soup.find_all('div',attrs = {'class':'quote'}) \n",
    "\n",
    "    count = 0\n",
    "    for i in quote:\n",
    "    \n",
    "        if search in i('span')[0].text:\n",
    "           # index = count\n",
    "            \n",
    "            #print(quote[index]('span')[0].text)\n",
    "            \n",
    "            print('*************************************************')\n",
    "            print('Author: ' + i.small.text)\n",
    "           \n",
    "            \n",
    "            print('Quote: ' + i.span.text)\n",
    "            \n",
    "            print('*************************************************')\n",
    "            match = True\n",
    "        else:\n",
    "            bbreak = True\n",
    "        \n",
    "\n",
    "  \n",
    "    # check for 'Next' button\n",
    "    nextTag = soup.find('li', {'class':'next'})\n",
    "    \n",
    "    # if 'Next' button exists, update url\n",
    "    if nextTag:\n",
    "        # Note: starting on page 2, the href format changed, so we\n",
    "        # need to modify our base url to reflect this change...\n",
    "        \n",
    "        \n",
    "        url = baseurl + nextTag.a['href']\n",
    "    else: crawl = False\n",
    "    \n",
    "    \n",
    "if(bbreak == True and match != True):\n",
    "    print('no match found!')\n",
    "\n",
    "\n",
    "\n",
    "\n",
    "\n",
    "\n"
   ]
  },
  {
   "cell_type": "code",
   "execution_count": 414,
   "metadata": {},
   "outputs": [
    {
     "data": {
      "text/plain": [
       "\"“I'm the one that's got to die when it's time for me to die, so let me live my life the way I want to.”\""
      ]
     },
     "execution_count": 414,
     "metadata": {},
     "output_type": "execute_result"
    }
   ],
   "source": [
    "quote[1]('span')[0].text"
   ]
  },
  {
   "cell_type": "code",
   "execution_count": null,
   "metadata": {},
   "outputs": [],
   "source": []
  }
 ],
 "metadata": {
  "kernelspec": {
   "display_name": "Python 3",
   "language": "python",
   "name": "python3"
  },
  "language_info": {
   "codemirror_mode": {
    "name": "ipython",
    "version": 3
   },
   "file_extension": ".py",
   "mimetype": "text/x-python",
   "name": "python",
   "nbconvert_exporter": "python",
   "pygments_lexer": "ipython3",
   "version": "3.7.1"
  }
 },
 "nbformat": 4,
 "nbformat_minor": 2
}
