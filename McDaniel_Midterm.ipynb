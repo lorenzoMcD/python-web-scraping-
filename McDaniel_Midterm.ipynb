{
 "cells": [
  {
   "cell_type": "markdown",
   "metadata": {},
   "source": [
    "<h3>McDaniel - INFS 3470 Midterm Project - Spring 2019</h3>\n",
    "\n",
    "**Tkinter** is a python module that allows you to create **GUI**(graphical user interface) applications. \n",
    "Tkinter is extremely customizeable, tkinter gives you many tools for you to create your dream application!\n",
    "This report will go over the basics of tkinter and by the end of the report you will be able to create your\n",
    "own gui applications.\n"
   ]
  },
  {
   "cell_type": "markdown",
   "metadata": {},
   "source": [
    "<div>Sources for this research are listed below:</div>\n",
    "<a href=\"http://effbot.org/tkinterbook/\">http://effbot.org/tkinterbook/</a>\n",
    "<br />\n",
    "<a href=\"https://www.youtube.com/watch?v=_lSNIrR1nZU\">https://www.youtube.com/watch?v=_lSNIrR1nZU</a>\n",
    "<br />\n",
    "<a href=\"http://www.science.smith.edu/dftwiki/index.php/Color_Charts_for_TKinter\">http://www.science.smith.edu/dftwiki/index.php/Color_Charts_for_TKinter</a>\n",
    "<br />\n",
    "<a href=\"https://pythonspot.com/tk-message-box/\">https://pythonspot.com/tk-message-box/</a>\n",
    "<br />\n",
    "<a href=\"https://effbot.org/tkinterbook/grid.htm\">https://effbot.org/tkinterbook/grid.htm</a>\n",
    "<br />\n",
    "<a href=\"https://pythonspot.com/tk-message-box/\">https://pythonspot.com/tk-message-box/</a>\n",
    "<br />\n",
    "<a href=\"https://www.youtube.com/watch?v=qJtf0J0Vrkg&t=325s\">https://www.youtube.com/watch?v=qJtf0J0Vrkg&t=325s</a>\n",
    "<br />\n"
   ]
  },
  {
   "cell_type": "markdown",
   "metadata": {},
   "source": [
    "In order to add **tkinter** into our python program, we will have to  import the module into our project.\n",
    "\n",
    "\n"
   ]
  },
  {
   "cell_type": "code",
   "execution_count": 1,
   "metadata": {},
   "outputs": [],
   "source": [
    "## import Tkinter into our work environment \n",
    "from tkinter import *"
   ]
  },
  {
   "cell_type": "markdown",
   "metadata": {},
   "source": [
    "Now that the module has been imported we can start creating some gui applications.\n",
    "\n",
    "Tkinter has an enormous toolbox and it  gives you the control to really customize your GUI projects.\n",
    "The next couple programs will be used in order to learn about tkinter , and by the end of this report you will \n",
    "be able to create your own gui application. \n",
    "\n",
    "\n",
    "\n",
    "The following programs will help us learn about tkinter.\n",
    "\n",
    "**root** - this variable is used to create our window, you can realy name this anything you want but it call the method  Tk which starts the interpretor and create the window. root must be created first before you start adding any other functionality(widgets) \n",
    "\n",
    "root = Tk()\n",
    "\n",
    "**label** - we use the label widget in order to add text and picture content to our program. You can name the label anything you \n",
    "want as long as you follow the the conveniton Label(root). the label is assigned to the root which is our main window. inside we can add pictures or text.\n",
    "\n",
    "mylabel = Label( root, text = 'this is my label, you can not have it')\n",
    "\n",
    "\n",
    "**pack** - method used to organize the placement of our widgets in program. without using pack our widget won't appear in the program.\n",
    "\n",
    "\n",
    "mylabel = label(root,text = 'this is my label, you can not have it')\n",
    "mylabel.pack()\n",
    "\n",
    "\n",
    "\n",
    "**mainloop()** - keeps our programming running , application will not run unless this is added.\n",
    "\n",
    "To customize the window size of our program we can use a method called **geometry** , in order to use it you add the method behind your root variable.\n",
    "\n",
    "root.geometry() \n",
    "\n",
    "Now you can customize your window size!\n",
    "\n",
    "root.geometry('400x200')"
   ]
  },
  {
   "cell_type": "code",
   "execution_count": 2,
   "metadata": {
    "scrolled": false
   },
   "outputs": [],
   "source": [
    "\n",
    "root = Tk() # creates window \n",
    "root.geometry('400x200') # customize our window size\n",
    "\n",
    "ourlabel = Label(root, text = 'First Python Gui')   # adds text to body of our program\n",
    "ourlabel.pack() # organzier tool needed for label to appear in program\n",
    "\n",
    "\n",
    "root.mainloop() # needed to run our program\n"
   ]
  },
  {
   "cell_type": "markdown",
   "metadata": {},
   "source": [
    "We will now create a **button**. A button is created in the same way we create labels.\n",
    "We can name the button whatever we want but we have to follow the convention\n",
    "Button(root,text). After creating the button you must use the method .pack()\n",
    "in order to have it appear in our program.\n",
    "\n",
    "b = Button(root, text = 'i am a button')\n",
    "\n",
    "b.pack()\n"
   ]
  },
  {
   "cell_type": "code",
   "execution_count": 3,
   "metadata": {},
   "outputs": [],
   "source": [
    "root = Tk()\n",
    "\n",
    "root.geometry('400x200') # sets the window size\n",
    "\n",
    "label = Label(root, text = 'this is our button') # label above our button\n",
    "label.pack()\n",
    "\n",
    "\n",
    "\n",
    "b = Button(root, text = 'click me')  # creates our button widget\n",
    "b.pack() # sets and places button widget in our program\n",
    "\n",
    "root.mainloop() "
   ]
  },
  {
   "cell_type": "markdown",
   "metadata": {},
   "source": [
    "Our button currently doesn't do anything when clicked , lets add some functionality to the button.\n",
    "We can do this by creating our own method and using our button to call that method. Inside of our \n",
    "button we will use the attribute command to link our method to this button. \n",
    "\n",
    "(**Caution**) inside the method if you want the text to appear inside our gui applciation you must create a new\n",
    "label inside the method and assign the text input here. if you were to type print this would only print the \n",
    "text to the terminal. \n",
    "\n",
    "def returnprint():\n",
    "    print('some text')  ## this will print the text to the termial instead of to our gui app\n",
    "\n",
    "the correct way to write the method above in order to print the text in our gui app \n",
    "you assign the text you want within the labels text setter.\n",
    "def returnprint():\n",
    "    somenewlabel = Label(root,text = 'you clicked me!')\n",
    "   \n",
    "   somenewlabel.pack()\n",
    "\n"
   ]
  },
  {
   "cell_type": "code",
   "execution_count": 4,
   "metadata": {},
   "outputs": [],
   "source": [
    "root = Tk()\n",
    "root.geometry('400x200')\n",
    "\n",
    "\n",
    "label = Label(root, text = 'this is our button ') # text above our button \n",
    "label.pack()\n",
    "\n",
    "\n",
    "def returnprint():      # method we created , when click called will print\n",
    "    \n",
    "    bttnlabel = Label(root, text = 'you clicked me !') # create new label  \n",
    "    bttnlabel.pack()\n",
    "\n",
    "b = Button(root, text = 'click me', command = returnprint)  # creates button, command is now linked to returnprint \n",
    "                                                            # when button is clicked the method will execute.\n",
    "\n",
    "\n",
    "b.pack() # sets and places button widget in our program\n",
    "\n",
    "root.mainloop() # create window"
   ]
  },
  {
   "cell_type": "markdown",
   "metadata": {},
   "source": [
    "Now we will create a program that takes **user input**, and after clicking our button will display the input on the screen.\n",
    "Before we can create the program we will need to understand entry and grid.\n",
    "\n",
    "**Entry** - is our textbox feature in tkinter.  entry displays a empty text box that the user can type strings into. We can use the **.get** method in order to grab and assign to variables what ever is typed inside our textbox. \n",
    "\n",
    "userinput = Entry(root)  # this associated our entry variable 'userinput' with the root window or program.\n",
    "\n",
    "\n",
    "**grid** - is used to organize the placement of our widgets in the program we have to customize the rows and columns within the method. we can use grid to customize the placement of the labels we have been creating.\n",
    "\n",
    "mylabel = label(root, text = 'my lost label')\n",
    "\n",
    "\n",
    "mylabel.grid(row = 0, column = 0)  \n"
   ]
  },
  {
   "cell_type": "code",
   "execution_count": 5,
   "metadata": {},
   "outputs": [],
   "source": [
    "root = Tk() \n",
    "root.title('entry example') # title of our program\n",
    "\n",
    "def say_hello():\n",
    "    username = entry.get() # gets the input from the textbox\n",
    "    display = \"hello\" + ' ' +  username\n",
    "    label2 = Label(root,text = display) # links the label with the display variable\n",
    "    label2.grid(row = 1 ,column = 1) # sets the placement of our result label\n",
    "\n",
    "label1 = Label(root,text = ' Please enter your name ')\n",
    "entry = Entry(root)\n",
    "bttn = Button(root, text = \"click me to enter your name\",command = say_hello)  # links bttn wih say_hello method\n",
    "root.geometry('400x200')\n",
    "\n",
    "\n",
    "label1.grid(row = 0, column = 0)\n",
    "entry.grid(row = 0, column = 1)\n",
    "bttn.grid(row = 1, column = 0)\n",
    "\n",
    "root.mainloop()\n"
   ]
  },
  {
   "cell_type": "markdown",
   "metadata": {},
   "source": [
    "Now that we have learned the basics of tkinter we can now put everything together in order to create any program we\n",
    "want. Below is a program i created useing the tools mentioned above. Tkinter has many other customizeable options that werent mentioned in this report. Tkinter is an enormus module that really gives you access to a ton of tools. The program below is a\n",
    "simple addition program that takes two string inputs , converts them to integers and displays the sum.\n",
    "\n",
    "Below i have imported the **messagebox** from tkinter. The **messagebox** displays an pop up error message when invoked.\n",
    "You will also notice below that i have used different colors in my program. You can set the **color** of your text,button or label by customizing your background,foreground attributes. I will include the color chart that i used for my program.\n",
    "<a href=\"http://www.science.smith.edu/dftwiki/index.php/Color_Charts_for_TKinter\">http://www.science.smith.edu/dftwiki/index.php/Color_Charts_for_TKinter</a>\n",
    "<br />"
   ]
  },
  {
   "cell_type": "code",
   "execution_count": 6,
   "metadata": {},
   "outputs": [],
   "source": [
    "import tkinter\n",
    "from tkinter import messagebox # needed for the messagebox to appear\n",
    "\n",
    "root = Tk()\n",
    "root.title('addition program') \n",
    "root.geometry('')\n",
    "root.configure(background = 'lightblue1') # root.background allows us to change color of background color\n",
    "label1 = Label(root, text = ' Enter any numbers in the boxes below and click the button to add or subtract', bg = 'yellow')\n",
    "label1.grid(row = 0 , column = 2 )\n",
    "\n",
    "def addnums(): # method adds two textbox inputs together \n",
    "    \n",
    "    try: \n",
    "        a = entry1.get() # gets the input from the entry/textbox\n",
    "\n",
    "        b = entry2.get()\n",
    "        result = int(a) + int(b) # casts string input from textboxes to ints so we can add them together\n",
    "        \n",
    "        resultlabel = Label(root,text = result, font = '20', bg = 'yellow')\n",
    "        resultlabel.grid(row = 4,column = 2)\n",
    "    \n",
    "    \n",
    "    except: # except will catch any errors and display messagebox below\n",
    "        \n",
    "        messagebox.showerror('Error','You must enter numerical data in boxes before you can continue') ## messagebox will appear if blank or \n",
    "                                                                                                # non digits entered into textbox\n",
    "                                                                                            \n",
    "\n",
    "entry1 = Entry(root) # entry/textbox 1 \n",
    "entry2 = Entry(root) # entry/textbox 2\n",
    "button = Button(root, text = 'add', command = addnums, width = '5') # width is an attribute sets width of button\n",
    "button.grid(row = 3,column = 2)\n",
    "\n",
    "\n",
    "\n",
    "numlabel1 = Label(root, text = 'enter digit here:') # label above textbox1\n",
    "numlabel1.grid(row = 1, column = 0) # setting the posion of label\n",
    "numblabel2 = Label(root,text = 'enter digit here:') # label above textbox 2 \n",
    "numblabel2.grid(row =1 ,column = 3)\n",
    "\n",
    "\n",
    "entry1.grid(row=2,column = 0)\n",
    "entry2.grid(row = 2, column = 3)\n",
    "\n",
    "\n",
    "\n",
    "root.mainloop() # needed for program to run"
   ]
  },
  {
   "cell_type": "code",
   "execution_count": null,
   "metadata": {},
   "outputs": [],
   "source": []
  }
 ],
 "metadata": {
  "kernelspec": {
   "display_name": "Python 3",
   "language": "python",
   "name": "python3"
  },
  "language_info": {
   "codemirror_mode": {
    "name": "ipython",
    "version": 3
   },
   "file_extension": ".py",
   "mimetype": "text/x-python",
   "name": "python",
   "nbconvert_exporter": "python",
   "pygments_lexer": "ipython3",
   "version": "3.7.1"
  }
 },
 "nbformat": 4,
 "nbformat_minor": 2
}
