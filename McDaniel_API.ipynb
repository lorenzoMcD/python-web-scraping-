{
 "cells": [
  {
   "cell_type": "markdown",
   "metadata": {},
   "source": [
    "<h3>Rename this file \"YourLastName_API\"</h3>"
   ]
  },
  {
   "cell_type": "code",
   "execution_count": 2,
   "metadata": {},
   "outputs": [],
   "source": [
    "# useful modules\n",
    "import requests\n",
    "import json"
   ]
  },
  {
   "cell_type": "code",
   "execution_count": 6,
   "metadata": {},
   "outputs": [
    {
     "name": "stdout",
     "output_type": "stream",
     "text": [
      "200\n",
      "application/json; charset=utf-8\n",
      "Knock knock. \n",
      " Who's there? \n",
      " Hatch. \n",
      " Hatch who?Bless you!\n"
     ]
    }
   ],
   "source": [
    "# Question 1 : Print the setup and punchline of a random joke, each on its own line\n",
    "\n",
    "# API Documentation: https://github.com/15Dkatz/official_joke_api\n",
    "\n",
    "apiurl = 'https://official-joke-api.appspot.com/random_joke'\n",
    "\n",
    "response = requests.get(apiurl)\n",
    "\n",
    "\n",
    "print(response.status_code)    ## checks if api connection is a success\n",
    "print(response.headers['Content-Type'])\n",
    "\n",
    "\n",
    "data = response.json()\n",
    "print(data['setup'] + data['punchline'])"
   ]
  },
  {
   "cell_type": "code",
   "execution_count": 98,
   "metadata": {},
   "outputs": [
    {
     "name": "stdout",
     "output_type": "stream",
     "text": [
      "200\n",
      "application/json; charset=utf-8\n",
      "Have a jam session with your friends\n",
      "0.1\n",
      "5\n"
     ]
    }
   ],
   "source": [
    "# Question 2 :  Display the name and price of an activity involving 5 participants\n",
    "\n",
    "# API Documentation: https://www.boredapi.com/documentation\n",
    "\n",
    "apiurl = 'http://www.boredapi.com/api/activity?participants=5'\n",
    "\n",
    "response = requests.get(apiurl)\n",
    "\n",
    "\n",
    "print(response.status_code)    ## checks if api connection is a success\n",
    "print(response.headers['Content-Type'])\n",
    "\n",
    "data = response.json()\n",
    "\n",
    "\n",
    "print(data['activity'])\n",
    "print(data['price'])\n",
    "print(data['participants'])\n"
   ]
  },
  {
   "cell_type": "code",
   "execution_count": 51,
   "metadata": {},
   "outputs": [
    {
     "name": "stdout",
     "output_type": "stream",
     "text": [
      "200\n",
      "application/json; charset=utf-8\n",
      "Mayday Brewery // 521 Old Salem Rd Ste C\n"
     ]
    }
   ],
   "source": [
    "# Question 3 : Print the name and street address of all breweries found in Murfreesboro\n",
    "\n",
    "# API Documentation: https://www.openbrewerydb.org/#documentation\n",
    "\n",
    "apiurl = 'https://api.openbrewerydb.org/breweries?'\n",
    "\n",
    "response = requests.get(apiurl)\n",
    "\n",
    "\n",
    "print(response.status_code)    ## checks if api connection is a success\n",
    "print(response.headers['Content-Type'])\n",
    "\n",
    "data = response.json()\n",
    "\n",
    "\n",
    "for i in data:\n",
    "    print(i['name'] + \" // \" + i['street'])\n",
    "\n",
    "\n",
    "# used this to answer above https://stackoverflow.com/questions/17117912/python-accessing-values-in-a-list-of-dictionaries"
   ]
  },
  {
   "cell_type": "code",
   "execution_count": 84,
   "metadata": {},
   "outputs": [
    {
     "name": "stdout",
     "output_type": "stream",
     "text": [
      "200\n",
      "application/javascript\n",
      "Apr 5, 2019 13:32:00 UTC\n",
      "$5,050.5183\n",
      "€4,494.7744\n"
     ]
    }
   ],
   "source": [
    "# Question 4 : Print the real-time current price of Bitcoin in both US dollars and Euros.\n",
    "\n",
    "\n",
    "# API Documentation: https://www.coindesk.com/api\n",
    "\n",
    "\n",
    "apiurl = 'https://api.coindesk.com/v1/bpi/currentprice.json'\n",
    "\n",
    "response = requests.get(apiurl)\n",
    "\n",
    "\n",
    "print(response.status_code)    ## checks if api connection is a success\n",
    "print(response.headers['Content-Type'])\n",
    "\n",
    "data = response.json()\n",
    "\n",
    "\n",
    "print(data['time']['updated'])\n",
    "\n",
    "print('$' + data['bpi']['USD']['rate'])      \n",
    "print('€' + data['bpi']['EUR']['rate'])\n",
    "    \n",
    "\n",
    "\n"
   ]
  },
  {
   "cell_type": "code",
   "execution_count": 97,
   "metadata": {},
   "outputs": [
    {
     "name": "stdout",
     "output_type": "stream",
     "text": [
      "200\n",
      "application/json\n",
      "School name: Tennessee State University\n",
      "['http://www.tnstate.edu/']\n",
      "School name: Tennessee Technological University\n",
      "['http://www.tntech.edu/']\n",
      "School name: Southwest Tennessee Community College\n",
      "['http://www.southwest.tn.edu']\n",
      "School name: East Tennessee State University\n",
      "['http://www.etsu.edu/']\n",
      "School name: University of Tennessee at Chattanooga\n",
      "['http://www.utc.edu/']\n",
      "School name: Middle Tennessee State University\n",
      "['http://www.mtsu.edu/']\n",
      "School name: University of Tennessee, Knoxville\n",
      "['http://www.utk.edu/']\n",
      "School name: University of Tennessee, Martin\n",
      "['http://www.utm.edu/']\n"
     ]
    }
   ],
   "source": [
    "# Question 5 : Print the names and university websites for all schools with the name 'Tennessee' in the country 'United States'\n",
    "\n",
    "# API Documentation: https://github.com/Hipo/university-domains-list\n",
    "\n",
    "apiurl = 'http://universities.hipolabs.com/search?name=Tennessee&country=United States'\n",
    "\n",
    "response = requests.get(apiurl)\n",
    "\n",
    "\n",
    "print(response.status_code)    ## checks if api connection is a success\n",
    "print(response.headers['Content-Type'])\n",
    "\n",
    "data = response.json()\n",
    "#print(data)\n",
    "for i in data:\n",
    "    print('School name:' +' ' +  i['name'])\n",
    "    print(i['web_pages'])\n",
    " \n"
   ]
  },
  {
   "cell_type": "code",
   "execution_count": null,
   "metadata": {},
   "outputs": [],
   "source": []
  }
 ],
 "metadata": {
  "kernelspec": {
   "display_name": "Python 3",
   "language": "python",
   "name": "python3"
  },
  "language_info": {
   "codemirror_mode": {
    "name": "ipython",
    "version": 3
   },
   "file_extension": ".py",
   "mimetype": "text/x-python",
   "name": "python",
   "nbconvert_exporter": "python",
   "pygments_lexer": "ipython3",
   "version": "3.7.1"
  }
 },
 "nbformat": 4,
 "nbformat_minor": 2
}
