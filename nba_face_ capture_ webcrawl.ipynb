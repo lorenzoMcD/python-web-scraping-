{
 "cells": [
  {
   "cell_type": "code",
   "execution_count": 1,
   "metadata": {},
   "outputs": [],
   "source": [
    "# project to grab all images of nba  players\n",
    "# from basketball-reference.com\n",
    "import  requests\n",
    "from bs4 import BeautifulSoup"
   ]
  },
  {
   "cell_type": "code",
   "execution_count": 2,
   "metadata": {},
   "outputs": [],
   "source": [
    "baseurl = 'https://www.basketball-reference.com'\n",
    "url = 'https://www.basketball-reference.com/leagues/NBA_2019_advanced.html'\n",
    "r = requests.get(url)\n",
    "soup = BeautifulSoup(r.text,'html.parser')"
   ]
  },
  {
   "cell_type": "code",
   "execution_count": 3,
   "metadata": {},
   "outputs": [],
   "source": [
    "results = soup.find(id=\"all_advanced_stats\")\n",
    "table = results.find_all('tr',attrs = {'class': 'full_table'})"
   ]
  },
  {
   "cell_type": "code",
   "execution_count": 4,
   "metadata": {},
   "outputs": [],
   "source": [
    "# this code grabs href links for each player within table and puts it in list\n",
    "image_list = []\n",
    "for i in range(len(table)):\n",
    "    s = table[i].find('td').a['href']\n",
    "    image_list.append(s)"
   ]
  },
  {
   "cell_type": "code",
   "execution_count": 5,
   "metadata": {},
   "outputs": [],
   "source": [
    "# code searches each link in the image_list and parses each indivdual page to grab the image url and players name \n",
    "# on that  players page, once that is done a copy of the image is saved in the current directory\n",
    "for i in image_list: \n",
    "   \n",
    "    try:\n",
    "        url = baseurl + i\n",
    "        page = requests.get(url)\n",
    "        soup = BeautifulSoup( page.content, 'html.parser')\n",
    "        results = soup.find('div',attrs = {'class':'media-item'})\n",
    "        n = results.img['alt']\n",
    "        name = n[9::]\n",
    "        link = results.img['src']\n",
    "        pic_url = link\n",
    "    \n",
    "        with open(name + '.jpg', 'wb') as handle:\n",
    "            response = requests.get(pic_url, stream=True)\n",
    "\n",
    "            if not response.ok:\n",
    "                print (response)\n",
    "\n",
    "            for block in response.iter_content(1024):\n",
    "                if not block:\n",
    "                    break\n",
    "\n",
    "                handle.write(block)\n",
    "    except:\n",
    "        \n",
    "        continue"
   ]
  },
  {
   "cell_type": "code",
   "execution_count": null,
   "metadata": {},
   "outputs": [],
   "source": []
  }
 ],
 "metadata": {
  "kernelspec": {
   "display_name": "Python 3",
   "language": "python",
   "name": "python3"
  },
  "language_info": {
   "codemirror_mode": {
    "name": "ipython",
    "version": 3
   },
   "file_extension": ".py",
   "mimetype": "text/x-python",
   "name": "python",
   "nbconvert_exporter": "python",
   "pygments_lexer": "ipython3",
   "version": "3.7.4"
  }
 },
 "nbformat": 4,
 "nbformat_minor": 2
}
