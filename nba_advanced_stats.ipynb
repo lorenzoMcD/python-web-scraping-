{
 "cells": [
  {
   "cell_type": "code",
   "execution_count": 1,
   "metadata": {},
   "outputs": [],
   "source": [
    "# code to gather advanced stats for nba teams \n",
    "# code is pulling stats from basketball-reference.com\n",
    "# code will output data in a csv file\n",
    "import  requests\n",
    "from bs4 import BeautifulSoup"
   ]
  },
  {
   "cell_type": "code",
   "execution_count": 2,
   "metadata": {},
   "outputs": [],
   "source": [
    "url = 'https://www.basketball-reference.com/leagues/NBA_2019_advanced.html'\n",
    "r = requests.get(url)\n",
    "soup = BeautifulSoup(r.text,'html.parser')"
   ]
  },
  {
   "cell_type": "code",
   "execution_count": 3,
   "metadata": {},
   "outputs": [],
   "source": [
    "results = soup.find(id=\"all_advanced_stats\")"
   ]
  },
  {
   "cell_type": "code",
   "execution_count": 5,
   "metadata": {},
   "outputs": [],
   "source": [
    "table = results.find_all('tr',attrs = {'class': 'full_table'})"
   ]
  },
  {
   "cell_type": "code",
   "execution_count": 7,
   "metadata": {},
   "outputs": [],
   "source": [
    "stat = []\n",
    "for i in range(len(table)):\n",
    "    s = table[i].find_all('td')\n",
    "    for j in s:\n",
    "        stat.append(j.text)"
   ]
  },
  {
   "cell_type": "code",
   "execution_count": 9,
   "metadata": {},
   "outputs": [],
   "source": [
    "N = 28 # number of diff types of stats\n",
    "subList = [stat[n:n+N] for n in range(0, len(stat), N)]"
   ]
  },
  {
   "cell_type": "code",
   "execution_count": 15,
   "metadata": {},
   "outputs": [],
   "source": [
    "import csv"
   ]
  },
  {
   "cell_type": "code",
   "execution_count": 17,
   "metadata": {},
   "outputs": [],
   "source": [
    "\n",
    "with open('Nba_advanced_stats.csv','w') as f:\n",
    "    writer = csv.writer(f)\n",
    "    writer.writerow(['Name','Pos','Age','Tm','G','MP','Per','TS%','3PAr','FTr','ORB%','DRB%','TRB%','AST%','STL%',\n",
    "                    'BLK%','TOV%','USG%',' ','OWS','DWS','WS','WS/48',' ','OBPM','DBPM','BPM','VORP'])\n",
    "    writer.writerows(subList)"
   ]
  }
 ],
 "metadata": {
  "kernelspec": {
   "display_name": "Python 3",
   "language": "python",
   "name": "python3"
  },
  "language_info": {
   "codemirror_mode": {
    "name": "ipython",
    "version": 3
   },
   "file_extension": ".py",
   "mimetype": "text/x-python",
   "name": "python",
   "nbconvert_exporter": "python",
   "pygments_lexer": "ipython3",
   "version": "3.7.4"
  }
 },
 "nbformat": 4,
 "nbformat_minor": 2
}
